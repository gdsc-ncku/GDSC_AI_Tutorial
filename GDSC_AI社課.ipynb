{
  "nbformat": 4,
  "nbformat_minor": 0,
  "metadata": {
    "colab": {
      "provenance": [],
      "authorship_tag": "ABX9TyPNWcagWDeWk5aiDPPMr84r",
      "include_colab_link": true
    },
    "kernelspec": {
      "name": "python3",
      "display_name": "Python 3"
    },
    "language_info": {
      "name": "python"
    }
  },
  "cells": [
    {
      "cell_type": "markdown",
      "metadata": {
        "id": "view-in-github",
        "colab_type": "text"
      },
      "source": [
        "<a href=\"https://colab.research.google.com/github/yuchen170/GDSC_AI/blob/main/GDSC_AI%E7%A4%BE%E8%AA%B2.ipynb\" target=\"_parent\"><img src=\"https://colab.research.google.com/assets/colab-badge.svg\" alt=\"Open In Colab\"/></a>"
      ]
    },
    {
      "cell_type": "markdown",
      "source": [
        "# Step 1\n",
        "* import libraries"
      ],
      "metadata": {
        "id": "fMWSJbZ-PP0j"
      }
    },
    {
      "cell_type": "code",
      "execution_count": null,
      "metadata": {
        "id": "kIMUp2wtPK7a"
      },
      "outputs": [],
      "source": [
        "# Step 1.1 code\n"
      ]
    },
    {
      "cell_type": "markdown",
      "source": [
        "* 載入資料集"
      ],
      "metadata": {
        "id": "FJ2bCDubTmyW"
      }
    },
    {
      "cell_type": "code",
      "source": [
        "from google.colab import files\n",
        "files.upload()"
      ],
      "metadata": {
        "id": "rKrS7oTyUTjQ"
      },
      "execution_count": null,
      "outputs": []
    },
    {
      "cell_type": "code",
      "source": [
        "!pip install -U -q kaggle\n",
        "!mkdir -p ~/.kaggle\n",
        "!cp kaggle.json ~/.kaggle/\n",
        "!chmod 600 ~/.kaggle/kaggle.json\n",
        "!kaggle competitions download -c digit-recognizer"
      ],
      "metadata": {
        "id": "yMOW3LfMUl5q"
      },
      "execution_count": null,
      "outputs": []
    },
    {
      "cell_type": "code",
      "source": [
        "import zipfile\n",
        "zip_train = zipfile.ZipFile('/content/digit-recognizer.zip', 'r')\n",
        "zip_train.extractall('/content') # Extract the folder into content folder\n",
        "zip_train.close()"
      ],
      "metadata": {
        "id": "SlG5dEa5U0Tg"
      },
      "execution_count": null,
      "outputs": []
    },
    {
      "cell_type": "markdown",
      "source": [
        "# Step 2\n",
        "* Data Visulization"
      ],
      "metadata": {
        "id": "KdFg4bnpUxe6"
      }
    },
    {
      "cell_type": "code",
      "source": [
        "data = pd.read_csv('/content/train.csv')\n",
        "# Step 2 code\n"
      ],
      "metadata": {
        "id": "GDUY65kQVWrf"
      },
      "execution_count": null,
      "outputs": []
    },
    {
      "cell_type": "markdown",
      "source": [
        "* 資料太多了，為了讓後面訓練速度快一點這裡把資料減少一半\n",
        "* 大家之後也可以把這段拿掉練習！"
      ],
      "metadata": {
        "id": "5aRh5rHUW-s0"
      }
    },
    {
      "cell_type": "code",
      "source": [
        "class_counts = data['label'].value_counts()\n",
        "reduce_count = class_counts.min() // 2\n",
        "\n",
        "reduced_data = pd.DataFrame(columns=data.columns)\n",
        "\n",
        "for label in class_counts.index:\n",
        "    class_data = data[data['label'] == label]\n",
        "    sampled_data = class_data.sample(n=reduce_count, random_state=42)\n",
        "    reduced_data = reduced_data.append(sampled_data, ignore_index=True)"
      ],
      "metadata": {
        "id": "7CoxHMmfW9gx"
      },
      "execution_count": null,
      "outputs": []
    },
    {
      "cell_type": "code",
      "source": [
        "class_counts = reduced_data['label'].value_counts()\n",
        "print(class_counts)"
      ],
      "metadata": {
        "id": "eI-mxXeuXW2S"
      },
      "execution_count": null,
      "outputs": []
    },
    {
      "cell_type": "markdown",
      "source": [
        "# Step 3\n",
        "* Split the data to training and validation"
      ],
      "metadata": {
        "id": "P-clEXHFXde5"
      }
    },
    {
      "cell_type": "code",
      "source": [
        "# Step 3 code"
      ],
      "metadata": {
        "id": "4YN-E8-AX9qf"
      },
      "execution_count": null,
      "outputs": []
    }
  ]
}