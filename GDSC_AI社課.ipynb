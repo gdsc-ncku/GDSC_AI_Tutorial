{
  "nbformat": 4,
  "nbformat_minor": 0,
  "metadata": {
    "colab": {
      "provenance": [],
      "authorship_tag": "ABX9TyMmabigsRKsPOMKrBy9TvUJ",
      "include_colab_link": true
    },
    "kernelspec": {
      "name": "python3",
      "display_name": "Python 3"
    },
    "language_info": {
      "name": "python"
    }
  },
  "cells": [
    {
      "cell_type": "markdown",
      "metadata": {
        "id": "view-in-github",
        "colab_type": "text"
      },
      "source": [
        "<a href=\"https://colab.research.google.com/github/yuchen170/GDSC_AI/blob/main/GDSC_AI%E7%A4%BE%E8%AA%B2.ipynb\" target=\"_parent\"><img src=\"https://colab.research.google.com/assets/colab-badge.svg\" alt=\"Open In Colab\"/></a>"
      ]
    },
    {
      "cell_type": "markdown",
      "source": [
        "# Step 1\n",
        "* import libraries"
      ],
      "metadata": {
        "id": "fMWSJbZ-PP0j"
      }
    },
    {
      "cell_type": "code",
      "execution_count": 58,
      "metadata": {
        "id": "kIMUp2wtPK7a"
      },
      "outputs": [],
      "source": [
        "# Step 1.1 code\n",
        "from keras.layers import Conv2D, MaxPooling2D, Dense, Flatten #一些模型內會用到的layer\n",
        "from keras.callbacks import EarlyStopping, ReduceLROnPlateau #回調函數\n",
        "from keras.models import Sequential #順序模型\n",
        "import matplotlib.pyplot as plt # 畫圖用的\n",
        "import tensorflow as tf # tensorflow!\n",
        "import pandas as pd # 資料處理&分析的好工具\n",
        "import numpy as np # 陣列運算、很多的數學函數"
      ]
    },
    {
      "cell_type": "markdown",
      "source": [
        "* 載入資料集"
      ],
      "metadata": {
        "id": "FJ2bCDubTmyW"
      }
    },
    {
      "cell_type": "code",
      "source": [
        "from google.colab import files\n",
        "files.upload() #上傳kaggle.json"
      ],
      "metadata": {
        "id": "rKrS7oTyUTjQ"
      },
      "execution_count": 80,
      "outputs": []
    },
    {
      "cell_type": "code",
      "source": [
        "!pip install -U -q kaggle\n",
        "!mkdir -p ~/.kaggle\n",
        "!cp kaggle.json ~/.kaggle/\n",
        "!chmod 600 ~/.kaggle/kaggle.json # 讀取和執行\n",
        "!kaggle competitions download -c digit-recognizer"
      ],
      "metadata": {
        "id": "yMOW3LfMUl5q",
        "colab": {
          "base_uri": "https://localhost:8080/"
        },
        "outputId": "4ca0fe83-e36a-46f8-863e-6c0a70cf409b"
      },
      "execution_count": 60,
      "outputs": [
        {
          "output_type": "stream",
          "name": "stdout",
          "text": [
            "digit-recognizer.zip: Skipping, found more recently modified local copy (use --force to force download)\n"
          ]
        }
      ]
    },
    {
      "cell_type": "code",
      "source": [
        "import zipfile\n",
        "zip_train = zipfile.ZipFile('/content/digit-recognizer.zip', 'r')\n",
        "zip_train.extractall('/content') # Extract the folder into content folder\n",
        "zip_train.close()"
      ],
      "metadata": {
        "id": "SlG5dEa5U0Tg"
      },
      "execution_count": 61,
      "outputs": []
    },
    {
      "cell_type": "markdown",
      "source": [
        "# Step 2\n",
        "* Data Visulization"
      ],
      "metadata": {
        "id": "KdFg4bnpUxe6"
      }
    },
    {
      "cell_type": "code",
      "source": [
        "data = pd.read_csv('/content/train.csv')\n",
        "# Step 2 code\n",
        "print(data.info()) # 簡單的訊息\n",
        "print(data.head()) # 前五筆資料\n",
        "# print(data.tail()) # 後五筆資料\n",
        "# print(data.describe()) # 關於資料集的統計數據\n",
        "class_counts = data['label'].value_counts()\n",
        "print(class_counts) # 各類別的資料筆數"
      ],
      "metadata": {
        "id": "GDUY65kQVWrf",
        "colab": {
          "base_uri": "https://localhost:8080/"
        },
        "outputId": "45311622-9deb-4a2d-d13a-50c288956803"
      },
      "execution_count": 62,
      "outputs": [
        {
          "output_type": "stream",
          "name": "stdout",
          "text": [
            "<class 'pandas.core.frame.DataFrame'>\n",
            "RangeIndex: 42000 entries, 0 to 41999\n",
            "Columns: 785 entries, label to pixel783\n",
            "dtypes: int64(785)\n",
            "memory usage: 251.5 MB\n",
            "None\n",
            "   label  pixel0  pixel1  pixel2  pixel3  pixel4  pixel5  pixel6  pixel7  \\\n",
            "0      1       0       0       0       0       0       0       0       0   \n",
            "1      0       0       0       0       0       0       0       0       0   \n",
            "2      1       0       0       0       0       0       0       0       0   \n",
            "3      4       0       0       0       0       0       0       0       0   \n",
            "4      0       0       0       0       0       0       0       0       0   \n",
            "\n",
            "   pixel8  ...  pixel774  pixel775  pixel776  pixel777  pixel778  pixel779  \\\n",
            "0       0  ...         0         0         0         0         0         0   \n",
            "1       0  ...         0         0         0         0         0         0   \n",
            "2       0  ...         0         0         0         0         0         0   \n",
            "3       0  ...         0         0         0         0         0         0   \n",
            "4       0  ...         0         0         0         0         0         0   \n",
            "\n",
            "   pixel780  pixel781  pixel782  pixel783  \n",
            "0         0         0         0         0  \n",
            "1         0         0         0         0  \n",
            "2         0         0         0         0  \n",
            "3         0         0         0         0  \n",
            "4         0         0         0         0  \n",
            "\n",
            "[5 rows x 785 columns]\n",
            "1    4684\n",
            "7    4401\n",
            "3    4351\n",
            "9    4188\n",
            "2    4177\n",
            "6    4137\n",
            "0    4132\n",
            "4    4072\n",
            "8    4063\n",
            "5    3795\n",
            "Name: label, dtype: int64\n"
          ]
        }
      ]
    },
    {
      "cell_type": "markdown",
      "source": [
        "* 資料太多了，為了讓後面訓練速度快一點這裡把資料減少一半\n",
        "* 大家之後也可以把這段拿掉練習！"
      ],
      "metadata": {
        "id": "5aRh5rHUW-s0"
      }
    },
    {
      "cell_type": "code",
      "source": [
        "class_counts = data['label'].value_counts()\n",
        "reduce_count = class_counts.min() // 2\n",
        "\n",
        "reduced_data = pd.DataFrame(columns=data.columns)\n",
        "\n",
        "for label in class_counts.index:\n",
        "    class_data = data[data['label'] == label]\n",
        "    sampled_data = class_data.sample(n=reduce_count, random_state=42)\n",
        "    reduced_data = reduced_data.append(sampled_data, ignore_index=True)"
      ],
      "metadata": {
        "id": "7CoxHMmfW9gx",
        "colab": {
          "base_uri": "https://localhost:8080/"
        },
        "outputId": "2519bb69-9ff4-4e0e-bdff-9964184d43e2"
      },
      "execution_count": 63,
      "outputs": [
        {
          "output_type": "stream",
          "name": "stderr",
          "text": [
            "<ipython-input-63-750f85138a4c>:9: FutureWarning: The frame.append method is deprecated and will be removed from pandas in a future version. Use pandas.concat instead.\n",
            "  reduced_data = reduced_data.append(sampled_data, ignore_index=True)\n"
          ]
        }
      ]
    },
    {
      "cell_type": "code",
      "source": [
        "class_counts = reduced_data['label'].value_counts()\n",
        "print(class_counts)"
      ],
      "metadata": {
        "id": "eI-mxXeuXW2S"
      },
      "execution_count": null,
      "outputs": []
    },
    {
      "cell_type": "markdown",
      "source": [
        "# Step 3\n",
        "* Split the data to training and validation"
      ],
      "metadata": {
        "id": "P-clEXHFXde5"
      }
    },
    {
      "cell_type": "code",
      "source": [
        "# Step 3 code\n",
        "# 比例依據不同大小的數據適合的不一樣，通常會讓train的比例在0.7~0.8\n",
        "train_data = data.head(int(len(reduced_data)*0.8))\n",
        "val_data = data.tail(int(len(reduced_data)*0.2))\n",
        "\n",
        "train_labels = train_data.pop('label')\n",
        "val_labels = val_data.pop('label')"
      ],
      "metadata": {
        "id": "4YN-E8-AX9qf"
      },
      "execution_count": 64,
      "outputs": []
    },
    {
      "cell_type": "markdown",
      "source": [
        "# Step 4\n",
        "* 轉換資料型態"
      ],
      "metadata": {
        "id": "PvAyAfCKpoag"
      }
    },
    {
      "cell_type": "code",
      "source": [
        "# Step 4 code\n",
        "tf_train_data = tf.data.Dataset.from_tensor_slices((train_data.values, train_labels.values))\n",
        "tf_val_data = tf.data.Dataset.from_tensor_slices((val_data.values, val_labels.values))"
      ],
      "metadata": {
        "id": "jVusgklYpuTu"
      },
      "execution_count": 65,
      "outputs": []
    },
    {
      "cell_type": "code",
      "source": [
        "plt.figure(figsize=(15,15))\n",
        "i = 0\n",
        "for image, label in tf_train_data.take(8):\n",
        "    plt.subplot(1,8,i+1)\n",
        "    plt.xticks([])\n",
        "    plt.yticks([])\n",
        "    plt.imshow(image.numpy().reshape((28, 28)), cmap='gray')\n",
        "    plt.xlabel(label.numpy())\n",
        "\n",
        "    i += 1"
      ],
      "metadata": {
        "id": "VreQ0WJH5S8X",
        "colab": {
          "base_uri": "https://localhost:8080/",
          "height": 177
        },
        "outputId": "8c26c017-7f89-491e-e369-c3a646d42c74"
      },
      "execution_count": 66,
      "outputs": [
        {
          "output_type": "display_data",
          "data": {
            "text/plain": [
              "<Figure size 1500x1500 with 8 Axes>"
            ],
            "image/png": "[encoded data removed]"
          },
          "metadata": {}
        }
      ]
    },
    {
      "cell_type": "markdown",
      "source": [
        "# Step 5 Data Preprocessing\n",
        "* 資料的預處理，讓訓練速度快又精準的關鍵！"
      ],
      "metadata": {
        "id": "eSXKDRcJ5p0x"
      }
    },
    {
      "cell_type": "code",
      "source": [
        "# Step 5.1 code\n",
        "def preprocess_image(image, label):\n",
        "    image = tf.reshape(image, [28, 28, 1]) #調整大小為28*28*1\n",
        "    image = tf.cast(image, tf.float32) / 255. #把pixel值縮小到[0,1]區間，pixel值是0-255，所以要縮小255倍！\n",
        "\n",
        "    return image, label\n",
        "\n",
        "tf_train_data = tf_train_data.map(preprocess_image)\n",
        "\n",
        "tf_val_data = tf_val_data.map(preprocess_image)"
      ],
      "metadata": {
        "id": "XAteUjkm52PH"
      },
      "execution_count": 67,
      "outputs": []
    },
    {
      "cell_type": "code",
      "source": [
        "# Step 5.2 code\n",
        "def pipeline(tf_data):\n",
        "    tf_data = tf_data.shuffle(100) #洗牌打亂數據,一次放100個進buffer\n",
        "    tf_data = tf_data.batch(32) #一個batch包32個數據\n",
        "    tf_data = tf_data.prefetch(tf.data.experimental.AUTOTUNE) #在訓練前先讀取資料\n",
        "\n",
        "    return tf_data\n",
        "\n",
        "tf_train_data = pipeline(tf_train_data)\n",
        "tf_val_data = pipeline(tf_val_data)"
      ],
      "metadata": {
        "id": "9OeT8QCk6CIw"
      },
      "execution_count": 68,
      "outputs": []
    },
    {
      "cell_type": "markdown",
      "source": [
        "# Step 6 定義模型"
      ],
      "metadata": {
        "id": "FwZRKUgR8LyP"
      }
    },
    {
      "cell_type": "code",
      "source": [
        "# Step 6 code\n",
        "model = Sequential()\n",
        "model.add(Conv2D(6, (5, 5), activation='relu', padding='same', input_shape=(28, 28, 1)))  #卷積層，用6個大小為5*5的filter，在模型的第一層需要指定輸入的大小\n",
        "model.add(MaxPooling2D((2, 2))) # 池化層，用2*2的窗格\n",
        "model.add(Conv2D(16, (5, 5), activation='relu', padding='valid'))\n",
        "model.add(MaxPooling2D((2, 2))) #池化層，用2*2的窗格\n",
        "model.add(Flatten()) #將數據展平成一維才能輸入全連接層\n",
        "model.add(Dense(120, activation='relu')) #全連接層，120個神經元\n",
        "model.add(Dense(84, activation='relu')) #全連接層，84個神經元\n",
        "model.add(Dense(10, activation='softmax')) #輸出層，10個神經元，softmax會將每個類別轉為機率"
      ],
      "metadata": {
        "id": "97HM1R0S8J74"
      },
      "execution_count": 70,
      "outputs": []
    },
    {
      "cell_type": "markdown",
      "source": [
        "# Step 7 Compile"
      ],
      "metadata": {
        "id": "_HRZZ5bD_jc8"
      }
    },
    {
      "cell_type": "code",
      "source": [
        "model.compile('adam', loss='sparse_categorical_crossentropy', metrics=['accuracy'])"
      ],
      "metadata": {
        "id": "19HWLCFP_l2u"
      },
      "execution_count": 71,
      "outputs": []
    },
    {
      "cell_type": "markdown",
      "source": [
        "# Step 8 訓練"
      ],
      "metadata": {
        "id": "2nPxsB3dCMMP"
      }
    },
    {
      "cell_type": "code",
      "source": [
        "# Step 8.1 code\n",
        "callbacks = [\n",
        "    ReduceLROnPlateau(monitor='loss', patience=2, verbose=1), # 如果連續2 epoch 的loss 沒有減少，就降低learning rate\n",
        "    EarlyStopping(monitor='loss', patience=5, verbose=1), # 如果連續5 epoch 的loss 沒有減少，就提前終止訓練\n",
        "]"
      ],
      "metadata": {
        "id": "t4rY1cGKCOk1"
      },
      "execution_count": 72,
      "outputs": []
    },
    {
      "cell_type": "code",
      "source": [
        "# Step 8.2 code\n",
        "hist = model.fit(\n",
        "    tf_train_data, #訓練資料\n",
        "    validation_data=tf_val_data, #驗證資料\n",
        "    epochs=10, #訓練次數\n",
        "    callbacks=callbacks #回調函數\n",
        ")"
      ],
      "metadata": {
        "id": "Bfv5I36ECQrs",
        "colab": {
          "base_uri": "https://localhost:8080/"
        },
        "outputId": "418e8b38-37ad-4f16-c528-c2c4340f3c37"
      },
      "execution_count": 73,
      "outputs": [
        {
          "output_type": "stream",
          "name": "stdout",
          "text": [
            "Epoch 1/10\n",
            "475/475 [==============================] - 20s 38ms/step - loss: 0.3881 - accuracy: 0.8830 - val_loss: 0.1642 - val_accuracy: 0.9470 - lr: 0.0010\n",
            "Epoch 2/10\n",
            "475/475 [==============================] - 16s 34ms/step - loss: 0.1170 - accuracy: 0.9635 - val_loss: 0.1285 - val_accuracy: 0.9576 - lr: 0.0010\n",
            "Epoch 3/10\n",
            "475/475 [==============================] - 14s 29ms/step - loss: 0.0818 - accuracy: 0.9750 - val_loss: 0.0755 - val_accuracy: 0.9760 - lr: 0.0010\n",
            "Epoch 4/10\n",
            "475/475 [==============================] - 14s 29ms/step - loss: 0.0636 - accuracy: 0.9796 - val_loss: 0.0768 - val_accuracy: 0.9747 - lr: 0.0010\n",
            "Epoch 5/10\n",
            "475/475 [==============================] - 13s 28ms/step - loss: 0.0510 - accuracy: 0.9840 - val_loss: 0.0891 - val_accuracy: 0.9734 - lr: 0.0010\n",
            "Epoch 6/10\n",
            "475/475 [==============================] - 14s 29ms/step - loss: 0.0406 - accuracy: 0.9875 - val_loss: 0.0694 - val_accuracy: 0.9768 - lr: 0.0010\n",
            "Epoch 7/10\n",
            "475/475 [==============================] - 19s 41ms/step - loss: 0.0318 - accuracy: 0.9897 - val_loss: 0.0621 - val_accuracy: 0.9805 - lr: 0.0010\n",
            "Epoch 8/10\n",
            "475/475 [==============================] - 14s 29ms/step - loss: 0.0318 - accuracy: 0.9892 - val_loss: 0.0748 - val_accuracy: 0.9781 - lr: 0.0010\n",
            "Epoch 9/10\n",
            "475/475 [==============================] - 14s 29ms/step - loss: 0.0255 - accuracy: 0.9915 - val_loss: 0.0587 - val_accuracy: 0.9852 - lr: 0.0010\n",
            "Epoch 10/10\n",
            "475/475 [==============================] - 14s 29ms/step - loss: 0.0195 - accuracy: 0.9939 - val_loss: 0.0702 - val_accuracy: 0.9818 - lr: 0.0010\n"
          ]
        }
      ]
    },
    {
      "cell_type": "markdown",
      "source": [
        "# Step 9 訓練結果"
      ],
      "metadata": {
        "id": "1mGYgzUPCX4I"
      }
    },
    {
      "cell_type": "code",
      "source": [
        "plt.plot(hist.history['accuracy'], label='accuracy')\n",
        "plt.plot(hist.history['val_accuracy'], label = 'val_accuracy')\n",
        "plt.xlabel('Epoch')\n",
        "plt.ylabel('Accuracy')\n",
        "plt.legend()\n",
        "\n",
        "print('Training accuracy: %f' % hist.history['accuracy'][-1])\n",
        "print('Validation accuracy: %f' % hist.history['val_accuracy'][-1])"
      ],
      "metadata": {
        "id": "Evv9zKM7CXft",
        "colab": {
          "base_uri": "https://localhost:8080/",
          "height": 484
        },
        "outputId": "7d57e906-0068-4b44-dcd3-1f4c03f1e5d5"
      },
      "execution_count": 77,
      "outputs": [
        {
          "output_type": "stream",
          "name": "stdout",
          "text": [
            "Training accuracy: 0.993938\n",
            "Validation accuracy: 0.981813\n"
          ]
        },
        {
          "output_type": "display_data",
          "data": {
            "text/plain": [
              "<Figure size 640x480 with 1 Axes>"
            ],
            "image/png": "[encoded data removed]"
          },
          "metadata": {}
        }
      ]
    },
    {
      "cell_type": "code",
      "source": [
        "plt.plot(hist.history['loss'], label='loss')\n",
        "plt.plot(hist.history['val_loss'], label = 'val_loss')\n",
        "plt.xlabel('Epoch')\n",
        "plt.ylabel('Loss')\n",
        "plt.legend()\n",
        "\n",
        "print('Training loss: %f' % hist.history['loss'][-1])\n",
        "print('Validation loss: %f' % hist.history['val_loss'][-1])"
      ],
      "metadata": {
        "id": "MNPEc5cECe0A",
        "colab": {
          "base_uri": "https://localhost:8080/",
          "height": 484
        },
        "outputId": "0267f0d4-ed5f-4d88-c4ab-b067d9a8ce69"
      },
      "execution_count": 78,
      "outputs": [
        {
          "output_type": "stream",
          "name": "stdout",
          "text": [
            "Training loss: 0.019529\n",
            "Validation loss: 0.070203\n"
          ]
        },
        {
          "output_type": "display_data",
          "data": {
            "text/plain": [
              "<Figure size 640x480 with 1 Axes>"
            ],
            "image/png": "[encoded data removed]"
          },
          "metadata": {}
        }
      ]
    },
    {
      "cell_type": "markdown",
      "source": [
        "# Step 10 測試"
      ],
      "metadata": {
        "id": "qUpK-VqACqSz"
      }
    },
    {
      "cell_type": "code",
      "source": [
        "test_data = pd.read_csv('/content/test.csv')\n",
        "tf_test_data = tf.data.Dataset.from_tensor_slices(([test_data.to_numpy().reshape(len(test_data), 28, 28, 1)]))"
      ],
      "metadata": {
        "id": "HdSKOHz7CsiR"
      },
      "execution_count": 74,
      "outputs": []
    },
    {
      "cell_type": "code",
      "source": [
        "# Step 10 code\n",
        "result = model.predict(tf_test_data)\n",
        "result = np.argmax(result, axis=1)"
      ],
      "metadata": {
        "id": "ALNvAR-GCtrM",
        "colab": {
          "base_uri": "https://localhost:8080/"
        },
        "outputId": "fc1461ca-60f1-4cc6-8218-42c9ff241c93"
      },
      "execution_count": 75,
      "outputs": [
        {
          "output_type": "stream",
          "name": "stdout",
          "text": [
            "1/1 [==============================] - 6s 6s/step\n"
          ]
        }
      ]
    },
    {
      "cell_type": "code",
      "source": [
        "plt.figure(figsize=(15,15))\n",
        "i = 0\n",
        "for i, row in test_data.head(20).iterrows():\n",
        "    plt.subplot(4,5,i+1)\n",
        "    plt.xticks([])\n",
        "    plt.yticks([])\n",
        "    plt.imshow(row.values.reshape((28, 28)), cmap='gray')\n",
        "    plt.xlabel(result[i])"
      ],
      "metadata": {
        "id": "SIC6u1gdD8yH",
        "colab": {
          "base_uri": "https://localhost:8080/",
          "height": 1000
        },
        "outputId": "07e8d140-29a6-4c22-b5f3-5b691e2475ad"
      },
      "execution_count": 76,
      "outputs": [
        {
          "output_type": "display_data",
          "data": {
            "text/plain": [
              "<Figure size 1500x1500 with 20 Axes>"
            ],
            "image/png": "[encoded data removed]"
          },
          "metadata": {}
        }
      ]
    },
    {
      "cell_type": "markdown",
      "source": [
        "# 測測看自己寫的字"
      ],
      "metadata": {
        "id": "6v3pa4lnED27"
      }
    },
    {
      "cell_type": "code",
      "source": [
        "from PIL import Image\n",
        "import zipfile\n",
        "import os"
      ],
      "metadata": {
        "id": "KPFKdERgDrrZ"
      },
      "execution_count": null,
      "outputs": []
    },
    {
      "cell_type": "code",
      "source": [
        "from google.colab import files\n",
        "files.upload() #上傳larger.zip"
      ],
      "metadata": {
        "id": "tpPqWoxM2hJg"
      },
      "execution_count": null,
      "outputs": []
    },
    {
      "cell_type": "code",
      "source": [
        "zip_train = zipfile.ZipFile('/content/larger.zip', 'r') #Opens the zip file in read mode\n",
        "zip_train.extractall('/content') #Extracts the files into the /tmp folder\n",
        "zip_train.close()"
      ],
      "metadata": {
        "id": "9_6Y62FP2rck"
      },
      "execution_count": null,
      "outputs": []
    },
    {
      "cell_type": "code",
      "source": [
        "image_folder = '/content/larger'  # 資料夾的名稱\n",
        "\n",
        "image_data = np.empty((0, 28 * 28), dtype=np.uint8)\n",
        "labels = np.empty((0, 1), dtype=int)\n",
        "\n",
        "for filename in os.listdir(image_folder):\n",
        "    if filename.endswith(\".png\"):\n",
        "        image = Image.open(os.path.join(image_folder, filename)).convert('L')\n",
        "        image_array = np.array(image).flatten()\n",
        "        label = int(filename.split(\".\")[0])\n",
        "        labels = np.vstack((labels, label))\n",
        "        image_data = np.vstack((image_data, image_array))\n",
        "\n",
        "df = pd.DataFrame(data=image_data, columns=reduced_data.columns[1:785])"
      ],
      "metadata": {
        "id": "Uz75mDjs2wze"
      },
      "execution_count": null,
      "outputs": []
    },
    {
      "cell_type": "code",
      "source": [
        "df_test_data = tf.data.Dataset.from_tensor_slices(([df.to_numpy().reshape(len(df), 28, 28, 1)]))\n",
        "\n",
        "predictions = model.predict(df_test_data)\n",
        "predictions = np.argmax(predictions, axis=1)"
      ],
      "metadata": {
        "id": "_NFz57_J24Bs"
      },
      "execution_count": null,
      "outputs": []
    },
    {
      "cell_type": "code",
      "source": [
        "plt.figure(figsize=(10,10))\n",
        "\n",
        "for i, row in df.head(10).iterrows():\n",
        "    plt.subplot(2,5,i+1)\n",
        "    plt.xticks([])\n",
        "    plt.yticks([])\n",
        "    plt.grid(False)\n",
        "\n",
        "    plt.imshow(row.values.reshape((28, 28)), cmap='gray')\n",
        "    plt.xlabel(predictions[i])"
      ],
      "metadata": {
        "id": "VYxBdY1C2--S"
      },
      "execution_count": null,
      "outputs": []
    }
  ]
}